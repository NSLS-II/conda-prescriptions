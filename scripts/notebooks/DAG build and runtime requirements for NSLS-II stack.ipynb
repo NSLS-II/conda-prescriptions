{
 "cells": [
  {
   "cell_type": "code",
   "execution_count": null,
   "metadata": {
    "collapsed": true
   },
   "outputs": [],
   "source": []
  },
  {
   "cell_type": "code",
   "execution_count": null,
   "metadata": {
    "collapsed": false
   },
   "outputs": [],
   "source": [
    "import os\n",
    "from collections import defaultdict\n",
    "%matplotlib inline\n",
    "import matplotlib.pyplot as plt"
   ]
  },
  {
   "cell_type": "code",
   "execution_count": null,
   "metadata": {
    "collapsed": false
   },
   "outputs": [],
   "source": [
    "import yaml\n",
    "import re\n",
    "\n",
    "def safe_yaml_read(fpath, replace_str=''):\n",
    "    \"\"\"\n",
    "    Reads a yaml file stripping all of the jinja templating markup\n",
    "\n",
    "    Parameters\n",
    "    ----------\n",
    "    fpath : str\n",
    "        Path to yaml file to sanitize\n",
    "\n",
    "    replace_str : str\n",
    "        String to replace the template markup with, defaults to ''.\n",
    "\n",
    "    Returns\n",
    "    -------\n",
    "    yaml_dict : dict\n",
    "        The dictionary with all of the jinja2 templating fields\n",
    "        replaced with ``replace_str``.\n",
    "    \"\"\"\n",
    "    with open(fpath, 'r') as f:\n",
    "        lns = []\n",
    "        for ln in f:\n",
    "            lns.append(re.sub(r'{[{%].*?[%}]}', '', ln))\n",
    "    meta_dict = yaml.load(''.join(lns))\n",
    "    return meta_dict"
   ]
  },
  {
   "cell_type": "code",
   "execution_count": null,
   "metadata": {
    "collapsed": false
   },
   "outputs": [],
   "source": [
    "recipes_path = os.path.join(os.path.expanduser('~'), 'dev', 'conda', \n",
    "                            'conda-prescriptions', 'recipes')"
   ]
  },
  {
   "cell_type": "code",
   "execution_count": null,
   "metadata": {
    "collapsed": false,
    "scrolled": false
   },
   "outputs": [],
   "source": [
    "from yaml.parser import ParserError\n",
    "\n",
    "all_recipes = defaultdict(dict)\n",
    "for parent_folder, child_folders, files in os.walk(recipes_path):\n",
    "    if 'meta.yaml' in files:\n",
    "        split_path = parent_folder.split(os.sep)\n",
    "        lib_name = split_path[-2]\n",
    "        version = split_path[-1]\n",
    "        try:\n",
    "            yaml_info = safe_yaml_read(os.path.join(parent_folder, 'meta.yaml'))\n",
    "        except ParserError as pe:\n",
    "            print('%s::%s not parseable' % (lib_name, version))\n",
    "            print('ParserError --> %s' % pe)\n",
    "            yaml_info = None\n",
    "        all_recipes[lib_name][version] = yaml_info\n",
    "\n",
    "# remove python. we need to special case that one...\n",
    "python_versions = all_recipes.pop('python')"
   ]
  },
  {
   "cell_type": "code",
   "execution_count": null,
   "metadata": {
    "collapsed": false
   },
   "outputs": [],
   "source": [
    "for recipe, version in sorted(all_recipes.items()):\n",
    "    print(recipe, sorted(version.keys()))"
   ]
  },
  {
   "cell_type": "markdown",
   "metadata": {},
   "source": [
    "Looks good!  We should separate these into **`latest_tagged`** and **`dev_only`**"
   ]
  },
  {
   "cell_type": "code",
   "execution_count": null,
   "metadata": {
    "collapsed": false
   },
   "outputs": [],
   "source": [
    "latest_tagged = defaultdict(dict)\n",
    "for lib_name, all_versions in all_recipes.items():\n",
    "    versions = sorted(all_versions.keys())\n",
    "    if len(versions) == 1:\n",
    "        version = versions[0]\n",
    "    else:\n",
    "        if 'dev' in versions:\n",
    "            versions.remove('dev')\n",
    "        version = versions[-1]\n",
    "    latest_tagged[lib_name][version] = all_versions[version]\n"
   ]
  },
  {
   "cell_type": "code",
   "execution_count": null,
   "metadata": {
    "collapsed": false
   },
   "outputs": [],
   "source": [
    "for recipe, version in sorted(latest_tagged.items()):\n",
    "    print(recipe, sorted(version.keys()))"
   ]
  },
  {
   "cell_type": "code",
   "execution_count": null,
   "metadata": {
    "collapsed": false
   },
   "outputs": [],
   "source": [
    "dev_only = defaultdict(dict)\n",
    "for lib_name, all_versions in all_recipes.items():\n",
    "    if 'dev' in all_versions.keys():\n",
    "        dev_only[lib_name] = all_versions['dev']"
   ]
  },
  {
   "cell_type": "code",
   "execution_count": null,
   "metadata": {
    "collapsed": false
   },
   "outputs": [],
   "source": [
    "print(sorted(dev_only.keys()))"
   ]
  },
  {
   "cell_type": "code",
   "execution_count": null,
   "metadata": {
    "collapsed": true
   },
   "outputs": [],
   "source": [
    "import networkx as nx"
   ]
  },
  {
   "cell_type": "code",
   "execution_count": null,
   "metadata": {
    "collapsed": true
   },
   "outputs": [],
   "source": [
    "def add_requirements(graph, requirements_list, target_lib):\n",
    "    graph.add_node(target_lib)\n",
    "    for req in requirements_list:\n",
    "        graph.add_node(req)\n",
    "        graph.add_edge(req, target_lib)"
   ]
  },
  {
   "cell_type": "code",
   "execution_count": null,
   "metadata": {
    "collapsed": false,
    "scrolled": false
   },
   "outputs": [],
   "source": [
    "fig, ax = plt.subplots(ncols=2, nrows=len(dev_only), figsize=(10,4*len(dev_only)))\n",
    "all_runs_dev_only = nx.DiGraph()\n",
    "all_builds_dev_only = nx.DiGraph()\n",
    "for row, (lib, meta) in enumerate(sorted(dev_only.items())):\n",
    "    run = nx.DiGraph()\n",
    "    build = nx.DiGraph()\n",
    "    build_reqs = meta['requirements']['build']\n",
    "    run_reqs = meta['requirements']['run']\n",
    "    add_requirements(build, build_reqs, lib)\n",
    "    add_requirements(run, run_reqs, lib)\n",
    "    add_requirements(all_builds_dev_only, build_reqs, lib)\n",
    "    add_requirements(all_runs_dev_only, run_reqs, lib)\n",
    "    build_ax = ax[row][0]\n",
    "    row_ax = ax[row][1]\n",
    "    nx.draw_networkx(build, ax=build_ax)\n",
    "    nx.draw_networkx(run, ax=row_ax)\n",
    "    build_ax.set_title(\"%s Build requirements\" % lib)\n",
    "    row_ax.set_title(\"%s Run requirements\" % lib)"
   ]
  },
  {
   "cell_type": "code",
   "execution_count": null,
   "metadata": {
    "collapsed": false
   },
   "outputs": [],
   "source": [
    "nx.is_directed_acyclic_graph(all_runs_dev_only)"
   ]
  },
  {
   "cell_type": "code",
   "execution_count": null,
   "metadata": {
    "collapsed": false
   },
   "outputs": [],
   "source": [
    "nx.is_directed_acyclic_graph(all_builds_dev_only)"
   ]
  },
  {
   "cell_type": "markdown",
   "metadata": {},
   "source": [
    "# Do the same for latest_tagged + dev"
   ]
  },
  {
   "cell_type": "code",
   "execution_count": null,
   "metadata": {
    "collapsed": false,
    "scrolled": false
   },
   "outputs": [],
   "source": [
    "fig, ax = plt.subplots(ncols=2, nrows=len(latest_tagged), figsize=(10,4*len(latest_tagged)))\n",
    "all_runs_latest_tagged = nx.DiGraph()\n",
    "all_builds_latest_tagged = nx.DiGraph()\n",
    "for row, (lib, version) in enumerate(sorted(latest_tagged.items())):\n",
    "    meta = list(version.values())[0]\n",
    "    run = nx.DiGraph()\n",
    "    build = nx.DiGraph()\n",
    "    build_ax = ax[row][0]\n",
    "    row_ax = ax[row][1]\n",
    "    reqs = meta.get('requirements')\n",
    "    build_ax.set_title(\"%s Build requirements\" % lib)\n",
    "    row_ax.set_title(\"%s Run requirements\" % lib)\n",
    "    if reqs:\n",
    "        build_reqs = reqs.get('build')\n",
    "        run_reqs = reqs.get('run')\n",
    "        if build_reqs:\n",
    "            add_requirements(build, build_reqs, lib)\n",
    "            add_requirements(all_builds_latest_tagged, build_reqs, lib)\n",
    "            nx.draw_networkx(build, ax=build_ax)\n",
    "\n",
    "        if run_reqs:\n",
    "            add_requirements(run, run_reqs, lib)\n",
    "            add_requirements(all_runs_latest_tagged, run_reqs, lib)\n",
    "            nx.draw_networkx(run, ax=row_ax)"
   ]
  },
  {
   "cell_type": "code",
   "execution_count": null,
   "metadata": {
    "collapsed": false
   },
   "outputs": [],
   "source": [
    "nx.is_directed_acyclic_graph(all_builds_latest_tagged)"
   ]
  },
  {
   "cell_type": "code",
   "execution_count": null,
   "metadata": {
    "collapsed": false
   },
   "outputs": [],
   "source": [
    "nx.is_directed_acyclic_graph(all_runs_latest_tagged)"
   ]
  },
  {
   "cell_type": "code",
   "execution_count": null,
   "metadata": {
    "collapsed": false
   },
   "outputs": [],
   "source": [
    "fig, ax = plt.subplots(figsize=(50,50))\n",
    "nx.draw_networkx(all_builds_dev_only, ax=ax)\n",
    "ax.set_title(\"All build requirements, dev recipes only\")"
   ]
  },
  {
   "cell_type": "code",
   "execution_count": null,
   "metadata": {
    "collapsed": false
   },
   "outputs": [],
   "source": [
    "fig, ax = plt.subplots(figsize=(50,50))\n",
    "nx.draw_networkx(all_runs_dev_only, ax=ax)\n",
    "ax.set_title(\"All runtime requirements, dev recipes only\")"
   ]
  },
  {
   "cell_type": "code",
   "execution_count": null,
   "metadata": {
    "collapsed": false
   },
   "outputs": [],
   "source": [
    "fig, ax = plt.subplots(figsize=(50,50))\n",
    "nx.draw_networkx(all_builds_latest_tagged, ax=ax)\n",
    "ax.set_title(\"All build requirements, latest tagged recipes\")"
   ]
  },
  {
   "cell_type": "code",
   "execution_count": null,
   "metadata": {
    "collapsed": false
   },
   "outputs": [],
   "source": [
    "fig, ax = plt.subplots(figsize=(50,50))\n",
    "nx.draw_networkx(all_runs_latest_tagged, ax=ax)\n",
    "ax.set_title(\"All runtime requirements, latest tagged recipes\")"
   ]
  },
  {
   "cell_type": "code",
   "execution_count": null,
   "metadata": {
    "collapsed": false
   },
   "outputs": [],
   "source": [
    "sorted(all_runs_latest_tagged.nodes())"
   ]
  },
  {
   "cell_type": "code",
   "execution_count": null,
   "metadata": {
    "collapsed": true
   },
   "outputs": [],
   "source": [
    "all_runs_latest_tagged.subgraph??"
   ]
  },
  {
   "cell_type": "code",
   "execution_count": null,
   "metadata": {
    "collapsed": false
   },
   "outputs": [],
   "source": [
    "g = all_runs_latest_tagged.subgraph('dataportal')"
   ]
  },
  {
   "cell_type": "code",
   "execution_count": null,
   "metadata": {
    "collapsed": false
   },
   "outputs": [],
   "source": [
    "nx.draw_networkx(g)"
   ]
  },
  {
   "cell_type": "code",
   "execution_count": null,
   "metadata": {
    "collapsed": false
   },
   "outputs": [],
   "source": [
    "all_runs_latest_tagged.edges()"
   ]
  },
  {
   "cell_type": "code",
   "execution_count": null,
   "metadata": {
    "collapsed": true
   },
   "outputs": [],
   "source": []
  },
  {
   "cell_type": "raw",
   "metadata": {},
   "source": []
  },
  {
   "cell_type": "code",
   "execution_count": null,
   "metadata": {
    "collapsed": false
   },
   "outputs": [],
   "source": [
    "all_runs_latest_tagged['clint']"
   ]
  },
  {
   "cell_type": "code",
   "execution_count": null,
   "metadata": {
    "collapsed": true
   },
   "outputs": [],
   "source": []
  }
 ],
 "metadata": {
  "kernelspec": {
   "display_name": "Python 2",
   "language": "python",
   "name": "python2"
  },
  "language_info": {
   "codemirror_mode": {
    "name": "ipython",
    "version": 2
   },
   "file_extension": ".py",
   "mimetype": "text/x-python",
   "name": "python",
   "nbconvert_exporter": "python",
   "pygments_lexer": "ipython2",
   "version": "2.7.10"
  }
 },
 "nbformat": 4,
 "nbformat_minor": 0
}
